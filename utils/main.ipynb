{
 "cells": [
  {
   "cell_type": "code",
   "execution_count": 5,
   "metadata": {},
   "outputs": [
    {
     "name": "stdout",
     "output_type": "stream",
     "text": [
      "All images have been copied successfully.\n"
     ]
    }
   ],
   "source": [
    "import os\n",
    "import shutil\n",
    "\n",
    "# Define the source directory and the destination directory\n",
    "source_dir = 'slit_fungal'\n",
    "destination_dir = 'fungal'\n",
    "\n",
    "# List of common image file extensions\n",
    "image_extensions = ('.JPG', '.jpeg', '.png', '.gif')\n",
    "\n",
    "# Walk through the source directory\n",
    "for root, dirs, files in os.walk(source_dir):\n",
    "    for file in files:\n",
    "        # Check if the file is an image by looking at its extension\n",
    "        if file.endswith(image_extensions):\n",
    "            # Construct full file path\n",
    "            file_path = os.path.join(root, file)\n",
    "            # Copy the file to the destination directory\n",
    "            shutil.copy(file_path, destination_dir)\n",
    "\n",
    "print(\"All images have been copied successfully.\")\n",
    "\n"
   ]
  }
 ],
 "metadata": {
  "kernelspec": {
   "display_name": "chashm1",
   "language": "python",
   "name": "python3"
  },
  "language_info": {
   "codemirror_mode": {
    "name": "ipython",
    "version": 3
   },
   "file_extension": ".py",
   "mimetype": "text/x-python",
   "name": "python",
   "nbconvert_exporter": "python",
   "pygments_lexer": "ipython3",
   "version": "3.12.0"
  }
 },
 "nbformat": 4,
 "nbformat_minor": 2
}
